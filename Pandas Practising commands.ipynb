{
 "cells": [
  {
   "cell_type": "code",
   "execution_count": 1,
   "id": "739dba59-b27e-401c-9a04-db9ad746b87d",
   "metadata": {},
   "outputs": [],
   "source": [
    "#pandas"
   ]
  },
  {
   "cell_type": "code",
   "execution_count": 2,
   "id": "e306012b-4c29-46f9-a220-66b07d5a8c92",
   "metadata": {},
   "outputs": [
    {
     "name": "stdout",
     "output_type": "stream",
     "text": [
      "2.2.2\n"
     ]
    }
   ],
   "source": [
    "import pandas\n",
    "print(pandas.__version__)"
   ]
  },
  {
   "cell_type": "code",
   "execution_count": 6,
   "id": "11d8ebf9-d5cc-46c0-aa0a-fc15f4dd0cf7",
   "metadata": {},
   "outputs": [],
   "source": [
    "import pandas as pd\n",
    "\n",
    "data=pd.Series([1,2,3,4,5,7,8,65,97])\n"
   ]
  },
  {
   "cell_type": "code",
   "execution_count": 7,
   "id": "b6790c30-ed30-4e49-8c27-52becf5fe02f",
   "metadata": {},
   "outputs": [
    {
     "name": "stdout",
     "output_type": "stream",
     "text": [
      "0     1\n",
      "1     2\n",
      "2     3\n",
      "3     4\n",
      "4     5\n",
      "5     7\n",
      "6     8\n",
      "7    65\n",
      "8    97\n",
      "dtype: int64\n"
     ]
    }
   ],
   "source": [
    "print(data)"
   ]
  },
  {
   "cell_type": "code",
   "execution_count": 8,
   "id": "8bb8ae73-44a0-4286-a525-9c4a23f68009",
   "metadata": {},
   "outputs": [
    {
     "name": "stdout",
     "output_type": "stream",
     "text": [
      "[ 1  2  3  4  5  7  8 65 97]\n",
      "RangeIndex(start=0, stop=9, step=1)\n"
     ]
    }
   ],
   "source": [
    "print(data.values)\n",
    "print(data.index)"
   ]
  },
  {
   "cell_type": "code",
   "execution_count": 9,
   "id": "bfb48d8b-deed-4707-a583-e0c59c923f45",
   "metadata": {},
   "outputs": [],
   "source": [
    "data=pd.Series([1,2,3,4,5,7,8,65,97,66,55,77,88,999,135],dtype=float)"
   ]
  },
  {
   "cell_type": "code",
   "execution_count": 11,
   "id": "6a9bf4f5-eb58-44b7-8138-e69caa14daf0",
   "metadata": {},
   "outputs": [
    {
     "name": "stdout",
     "output_type": "stream",
     "text": [
      "0       1.0\n",
      "1       2.0\n",
      "2       3.0\n",
      "3       4.0\n",
      "4       5.0\n",
      "5       7.0\n",
      "6       8.0\n",
      "7      65.0\n",
      "8      97.0\n",
      "9      66.0\n",
      "10     55.0\n",
      "11     77.0\n",
      "12     88.0\n",
      "13    999.0\n",
      "14    135.0\n",
      "dtype: float64\n"
     ]
    }
   ],
   "source": [
    "print(data)"
   ]
  },
  {
   "cell_type": "code",
   "execution_count": 12,
   "id": "6a19f2a7-c700-4226-9c0c-adeceaa485e2",
   "metadata": {},
   "outputs": [
    {
     "name": "stdout",
     "output_type": "stream",
     "text": [
      "(15,)\n"
     ]
    }
   ],
   "source": [
    "print(data.shape)"
   ]
  },
  {
   "cell_type": "code",
   "execution_count": 13,
   "id": "bc1d0eee-3ed5-4ee7-990e-b0dcd7ad3b98",
   "metadata": {},
   "outputs": [
    {
     "name": "stdout",
     "output_type": "stream",
     "text": [
      "3.0\n"
     ]
    }
   ],
   "source": [
    "print(data[2])"
   ]
  },
  {
   "cell_type": "code",
   "execution_count": 15,
   "id": "40629bb4-6428-4981-966b-8cea3168763e",
   "metadata": {},
   "outputs": [
    {
     "name": "stdout",
     "output_type": "stream",
     "text": [
      "1.0\n"
     ]
    }
   ],
   "source": [
    "print(data[0])"
   ]
  },
  {
   "cell_type": "code",
   "execution_count": 16,
   "id": "2640f5a2-89f8-41e6-9467-436bc9d81440",
   "metadata": {},
   "outputs": [
    {
     "name": "stdout",
     "output_type": "stream",
     "text": [
      "65.0\n"
     ]
    }
   ],
   "source": [
    "print(data[7])"
   ]
  },
  {
   "cell_type": "code",
   "execution_count": 22,
   "id": "4d383f56-9b4a-4227-b10d-9db842cd4830",
   "metadata": {},
   "outputs": [],
   "source": [
    "data=pd.Series([1,2,3,4,5,7,8,65,97,66,55,77,88,999,135],index=['a','b','c','d','e','f','g','h','i','j','k','l','m','n','o'])"
   ]
  },
  {
   "cell_type": "code",
   "execution_count": 23,
   "id": "d05e80fe-2d6a-4bc5-b5b9-9f440d901088",
   "metadata": {},
   "outputs": [
    {
     "name": "stdout",
     "output_type": "stream",
     "text": [
      "a      1\n",
      "b      2\n",
      "c      3\n",
      "d      4\n",
      "e      5\n",
      "f      7\n",
      "g      8\n",
      "h     65\n",
      "i     97\n",
      "j     66\n",
      "k     55\n",
      "l     77\n",
      "m     88\n",
      "n    999\n",
      "o    135\n",
      "dtype: int64\n"
     ]
    }
   ],
   "source": [
    "print(data)"
   ]
  },
  {
   "cell_type": "raw",
   "id": "7a0f7f1c-f351-40bd-8141-5e579391c7d9",
   "metadata": {},
   "source": [
    "print(data['a':'k'])"
   ]
  },
  {
   "cell_type": "code",
   "execution_count": 24,
   "id": "8fbf9f90-6f15-460f-af28-43f5705bc775",
   "metadata": {},
   "outputs": [
    {
     "name": "stdout",
     "output_type": "stream",
     "text": [
      "a     1\n",
      "b     2\n",
      "c     3\n",
      "d     4\n",
      "e     5\n",
      "f     7\n",
      "g     8\n",
      "h    65\n",
      "i    97\n",
      "j    66\n",
      "k    55\n",
      "dtype: int64\n"
     ]
    }
   ],
   "source": [
    "print(data['a':'k'])"
   ]
  },
  {
   "cell_type": "code",
   "execution_count": 27,
   "id": "b9c2c45c-afe9-4150-b975-f85a7b345010",
   "metadata": {},
   "outputs": [
    {
     "name": "stdout",
     "output_type": "stream",
     "text": [
      "     id   FIRST_NAME   LAST_NAME     EMAIL  PHONE_NUMBER   HIRE_DATE  SALARY  \\\n",
      "0   100       Steven        King     SKING  515.123.4567   6/17/1987   24000   \n",
      "1   101        Neena     Kochhar  NKOCHHAR  515.123.4568   9/21/1989   17000   \n",
      "2   102          Lex     De Haan   LDEHAAN  515.123.4569   1/13/1993   17000   \n",
      "3   103    Alexander      Hunold   AHUNOLD  590.423.4567    1/3/1990    9000   \n",
      "4   105        David      Austin   DAUSTIN  590.423.4569   6/25/1997    4800   \n",
      "5   106        Valli   Pataballa  VPATABAL  590.423.4560    2/5/1998    4800   \n",
      "6   107        Diana     Lorentz  DLORENTZ  590.423.5567    2/7/1999    4200   \n",
      "7   108        Nancy   Greenberg  NGREENBE  515.124.4569   8/17/1994   12000   \n",
      "8   109       Daniel      Faviet   DFAVIET  515.124.4169   8/17/1994    9000   \n",
      "9   110         John        Chen     JCHEN  515.124.4269   9/28/1997    8200   \n",
      "10  111       Ismael     Sciarra  ISCIARRA  515.124.4369   9/30/1997    7700   \n",
      "11  112  Jose Manuel       Urman   JMURMAN  515.124.4469    3/7/1998    7800   \n",
      "12  113         Luis        Popp     LPOPP  515.124.4567   12/7/1999    6900   \n",
      "13  114          Den    Raphaely  DRAPHEAL  515.127.4561   12/7/1994   11000   \n",
      "14  115    Alexander        Khoo     AKHOO  515.127.4562   5/18/1995    3100   \n",
      "15  116       Shelli       Baida    SBAIDA  515.127.4563  12/24/1997    2900   \n",
      "16  117        Sigal      Tobias   STOBIAS  515.127.4564   7/24/1997    2800   \n",
      "17  118          Guy      Himuro   GHIMURO  515.127.4565  11/15/1998    2600   \n",
      "18  119        Karen  Colmenares  KCOLMENA  515.127.4566   8/10/1999    2500   \n",
      "19  120      Matthew       Weiss    MWEISS  650.123.1234   7/18/1996    8000   \n",
      "\n",
      "    DEPARTMENT_ID  \n",
      "0              90  \n",
      "1              90  \n",
      "2              90  \n",
      "3              60  \n",
      "4              60  \n",
      "5              60  \n",
      "6              60  \n",
      "7             100  \n",
      "8             100  \n",
      "9             100  \n",
      "10            100  \n",
      "11            100  \n",
      "12            100  \n",
      "13             30  \n",
      "14             30  \n",
      "15             30  \n",
      "16             30  \n",
      "17             30  \n",
      "18             30  \n",
      "19             50  \n"
     ]
    }
   ],
   "source": [
    "import pandas as pd\n",
    "df = pd.read_csv(r'C:\\Users\\Harsha\\Desktop\\Pandas\\Employee.csv')\n",
    "\n",
    "print(df)\n"
   ]
  },
  {
   "cell_type": "code",
   "execution_count": 33,
   "id": "1f37638c-c288-43bf-aa38-6b7a17a11c29",
   "metadata": {},
   "outputs": [
    {
     "name": "stdout",
     "output_type": "stream",
     "text": [
      "3    Alexander\n",
      "4        David\n",
      "5        Valli\n",
      "6        Diana\n",
      "7        Nancy\n",
      "8       Daniel\n",
      "Name: FIRST_NAME, dtype: object\n"
     ]
    }
   ],
   "source": [
    "print(df['FIRST_NAME'].iloc[3:9])"
   ]
  },
  {
   "cell_type": "code",
   "execution_count": 34,
   "id": "545013e5-dad4-47ac-bd88-e5526440fe27",
   "metadata": {},
   "outputs": [
    {
     "name": "stdout",
     "output_type": "stream",
     "text": [
      "            Full_Name  SALARY\n",
      "0         Steven King   24000\n",
      "1       Neena Kochhar   17000\n",
      "2         Lex De Haan   17000\n",
      "3    Alexander Hunold    9000\n",
      "4        David Austin    4800\n",
      "5     Valli Pataballa    4800\n",
      "6       Diana Lorentz    4200\n",
      "7     Nancy Greenberg   12000\n",
      "8       Daniel Faviet    9000\n",
      "9           John Chen    8200\n",
      "10     Ismael Sciarra    7700\n",
      "11  Jose Manuel Urman    7800\n",
      "12          Luis Popp    6900\n",
      "13       Den Raphaely   11000\n",
      "14     Alexander Khoo    3100\n",
      "15       Shelli Baida    2900\n",
      "16       Sigal Tobias    2800\n",
      "17         Guy Himuro    2600\n",
      "18   Karen Colmenares    2500\n",
      "19      Matthew Weiss    8000\n"
     ]
    }
   ],
   "source": [
    "df['Full_Name'] = df['FIRST_NAME'] + ' ' + df['LAST_NAME']\n",
    "c = df[['Full_Name', 'SALARY']]\n",
    "print(c)"
   ]
  },
  {
   "cell_type": "code",
   "execution_count": 35,
   "id": "cb7e9ed1-0792-4b27-be77-41138d2986a5",
   "metadata": {},
   "outputs": [
    {
     "name": "stdout",
     "output_type": "stream",
     "text": [
      "          Full_Name  SALARY\n",
      "3  Alexander Hunold    9000\n",
      "4      David Austin    4800\n",
      "5   Valli Pataballa    4800\n",
      "6     Diana Lorentz    4200\n",
      "7   Nancy Greenberg   12000\n",
      "8     Daniel Faviet    9000\n",
      "9         John Chen    8200\n"
     ]
    }
   ],
   "source": [
    "c = df.loc[3:9, ['Full_Name', 'SALARY']]\n",
    "print(c)"
   ]
  },
  {
   "cell_type": "code",
   "execution_count": 41,
   "id": "3a40d395-4ce7-4b04-a5ae-6ec49ac9d939",
   "metadata": {},
   "outputs": [
    {
     "name": "stdout",
     "output_type": "stream",
     "text": [
      "cali       340000\n",
      "nj         350000\n",
      "ny         600000\n",
      "md         250000\n",
      "va         150000\n",
      "florida    300000\n",
      "chicago    400000\n",
      "dtype: int64\n"
     ]
    }
   ],
   "source": [
    "import pandas as pd\n",
    "\n",
    "pop_dict = {'cali': 340000 ,'nj': 350000,'ny': 600000,'md': 250000,'va': 150000,'florida': 300000,'chicago': 400000}\n",
    "c = pd.Series(pop_dict)\n",
    "print(c)\n"
   ]
  },
  {
   "cell_type": "code",
   "execution_count": 43,
   "id": "a0070388-6070-42f8-99d9-854e67e80425",
   "metadata": {},
   "outputs": [
    {
     "name": "stdout",
     "output_type": "stream",
     "text": [
      "250000\n"
     ]
    }
   ],
   "source": [
    "print(c['md'])"
   ]
  },
  {
   "cell_type": "code",
   "execution_count": 44,
   "id": "ccbd2bdd-f384-4682-850b-2ae503bd7f36",
   "metadata": {},
   "outputs": [
    {
     "name": "stdout",
     "output_type": "stream",
     "text": [
      "nj         350000\n",
      "ny         600000\n",
      "md         250000\n",
      "va         150000\n",
      "florida    300000\n",
      "dtype: int64\n"
     ]
    }
   ],
   "source": [
    "print(c['nj':'florida'])"
   ]
  },
  {
   "cell_type": "code",
   "execution_count": 45,
   "id": "224357e3-6fd0-4455-aea8-40f5a8d8ae74",
   "metadata": {},
   "outputs": [
    {
     "name": "stdout",
     "output_type": "stream",
     "text": [
      "<class 'pandas.core.frame.DataFrame'>\n",
      "RangeIndex: 20 entries, 0 to 19\n",
      "Data columns (total 9 columns):\n",
      " #   Column         Non-Null Count  Dtype \n",
      "---  ------         --------------  ----- \n",
      " 0   id             20 non-null     int64 \n",
      " 1   FIRST_NAME     20 non-null     object\n",
      " 2   LAST_NAME      20 non-null     object\n",
      " 3   EMAIL          20 non-null     object\n",
      " 4   PHONE_NUMBER   20 non-null     object\n",
      " 5   HIRE_DATE      20 non-null     object\n",
      " 6   SALARY         20 non-null     int64 \n",
      " 7   DEPARTMENT_ID  20 non-null     int64 \n",
      " 8   Full_Name      20 non-null     object\n",
      "dtypes: int64(3), object(6)\n",
      "memory usage: 1.5+ KB\n",
      "None\n"
     ]
    }
   ],
   "source": [
    "print(df.info())"
   ]
  },
  {
   "cell_type": "code",
   "execution_count": 46,
   "id": "3b2fd87e-8b9f-49ef-be5f-ecb5ec14716d",
   "metadata": {},
   "outputs": [
    {
     "name": "stdout",
     "output_type": "stream",
     "text": [
      "               id        SALARY  DEPARTMENT_ID\n",
      "count   20.000000     20.000000      20.000000\n",
      "mean   110.300000   8265.000000      67.000000\n",
      "std      6.207805   5695.637758      29.753372\n",
      "min    100.000000   2500.000000      30.000000\n",
      "25%    105.750000   3925.000000      30.000000\n",
      "50%    110.500000   7750.000000      60.000000\n",
      "75%    115.250000   9500.000000     100.000000\n",
      "max    120.000000  24000.000000     100.000000\n"
     ]
    }
   ],
   "source": [
    "print(df.describe())"
   ]
  },
  {
   "cell_type": "code",
   "execution_count": 47,
   "id": "44c855cc-6dba-4d6e-aedc-f3d4630c3630",
   "metadata": {},
   "outputs": [
    {
     "name": "stdout",
     "output_type": "stream",
     "text": [
      "0          Steven\n",
      "1           Neena\n",
      "2             Lex\n",
      "3       Alexander\n",
      "4           David\n",
      "5           Valli\n",
      "6           Diana\n",
      "7           Nancy\n",
      "8          Daniel\n",
      "9            John\n",
      "10         Ismael\n",
      "11    Jose Manuel\n",
      "12           Luis\n",
      "13            Den\n",
      "14      Alexander\n",
      "15         Shelli\n",
      "16          Sigal\n",
      "17            Guy\n",
      "18          Karen\n",
      "19        Matthew\n",
      "Name: FIRST_NAME, dtype: object\n"
     ]
    }
   ],
   "source": [
    "print(df['FIRST_NAME'])"
   ]
  },
  {
   "cell_type": "code",
   "execution_count": 48,
   "id": "7e30177c-09e0-4859-b039-73fd6866d11b",
   "metadata": {},
   "outputs": [
    {
     "name": "stdout",
     "output_type": "stream",
     "text": [
      "0           Steven King\n",
      "1         Neena Kochhar\n",
      "2           Lex De Haan\n",
      "3      Alexander Hunold\n",
      "4          David Austin\n",
      "5       Valli Pataballa\n",
      "6         Diana Lorentz\n",
      "7       Nancy Greenberg\n",
      "8         Daniel Faviet\n",
      "9             John Chen\n",
      "10       Ismael Sciarra\n",
      "11    Jose Manuel Urman\n",
      "12            Luis Popp\n",
      "13         Den Raphaely\n",
      "14       Alexander Khoo\n",
      "15         Shelli Baida\n",
      "16         Sigal Tobias\n",
      "17           Guy Himuro\n",
      "18     Karen Colmenares\n",
      "19        Matthew Weiss\n",
      "Name: Full_Name, dtype: object\n"
     ]
    }
   ],
   "source": [
    "print(df['Full_Name'])"
   ]
  },
  {
   "cell_type": "code",
   "execution_count": 52,
   "id": "c7f8bb2f-627a-4734-8606-1f04ae6958fc",
   "metadata": {},
   "outputs": [
    {
     "name": "stdout",
     "output_type": "stream",
     "text": [
      "     id FIRST_NAME  LAST_NAME     EMAIL  PHONE_NUMBER  HIRE_DATE  SALARY  \\\n",
      "0   100     Steven       King     SKING  515.123.4567  6/17/1987   24000   \n",
      "1   101      Neena    Kochhar  NKOCHHAR  515.123.4568  9/21/1989   17000   \n",
      "2   102        Lex    De Haan   LDEHAAN  515.123.4569  1/13/1993   17000   \n",
      "7   108      Nancy  Greenberg  NGREENBE  515.124.4569  8/17/1994   12000   \n",
      "13  114        Den   Raphaely  DRAPHEAL  515.127.4561  12/7/1994   11000   \n",
      "\n",
      "    DEPARTMENT_ID        Full_Name  \n",
      "0              90      Steven King  \n",
      "1              90    Neena Kochhar  \n",
      "2              90      Lex De Haan  \n",
      "7             100  Nancy Greenberg  \n",
      "13             30     Den Raphaely  \n"
     ]
    }
   ],
   "source": [
    "d=df[df['SALARY']>9000]\n",
    "print(d)"
   ]
  },
  {
   "cell_type": "code",
   "execution_count": 53,
   "id": "51409b3a-be08-4a99-93e4-e2e6d4d5bc18",
   "metadata": {},
   "outputs": [
    {
     "name": "stdout",
     "output_type": "stream",
     "text": [
      "<class 'pandas.core.frame.DataFrame'>\n",
      "RangeIndex: 20 entries, 0 to 19\n",
      "Data columns (total 8 columns):\n",
      " #   Column         Non-Null Count  Dtype \n",
      "---  ------         --------------  ----- \n",
      " 0   id             20 non-null     int64 \n",
      " 1   FIRST_NAME     20 non-null     object\n",
      " 2   LAST_NAME      20 non-null     object\n",
      " 3   EMAIL          20 non-null     object\n",
      " 4   PHONE_NUMBER   20 non-null     object\n",
      " 5   HIRE_DATE      20 non-null     object\n",
      " 6   SALARY         20 non-null     int64 \n",
      " 7   DEPARTMENT_ID  20 non-null     int64 \n",
      "dtypes: int64(3), object(5)\n",
      "memory usage: 1.4+ KB\n",
      "None\n"
     ]
    }
   ],
   "source": [
    "df=df.drop('Full_Name',axis=1)\n",
    "print(df.info())"
   ]
  },
  {
   "cell_type": "code",
   "execution_count": 54,
   "id": "3b3d7b8c-1c43-48ad-961e-053dd7d751e6",
   "metadata": {},
   "outputs": [
    {
     "name": "stdout",
     "output_type": "stream",
     "text": [
      "<bound method DataFrame.info of      id   FIRST_NAME   LAST_NAME     EMAIL  PHONE_NUMBER   HIRE_DATE  SALARY  \\\n",
      "0   100       Steven        King     SKING  515.123.4567   6/17/1987   24000   \n",
      "1   101        Neena     Kochhar  NKOCHHAR  515.123.4568   9/21/1989   17000   \n",
      "2   102          Lex     De Haan   LDEHAAN  515.123.4569   1/13/1993   17000   \n",
      "3   103    Alexander      Hunold   AHUNOLD  590.423.4567    1/3/1990    9000   \n",
      "4   105        David      Austin   DAUSTIN  590.423.4569   6/25/1997    4800   \n",
      "5   106        Valli   Pataballa  VPATABAL  590.423.4560    2/5/1998    4800   \n",
      "6   107        Diana     Lorentz  DLORENTZ  590.423.5567    2/7/1999    4200   \n",
      "7   108        Nancy   Greenberg  NGREENBE  515.124.4569   8/17/1994   12000   \n",
      "8   109       Daniel      Faviet   DFAVIET  515.124.4169   8/17/1994    9000   \n",
      "9   110         John        Chen     JCHEN  515.124.4269   9/28/1997    8200   \n",
      "10  111       Ismael     Sciarra  ISCIARRA  515.124.4369   9/30/1997    7700   \n",
      "11  112  Jose Manuel       Urman   JMURMAN  515.124.4469    3/7/1998    7800   \n",
      "12  113         Luis        Popp     LPOPP  515.124.4567   12/7/1999    6900   \n",
      "13  114          Den    Raphaely  DRAPHEAL  515.127.4561   12/7/1994   11000   \n",
      "14  115    Alexander        Khoo     AKHOO  515.127.4562   5/18/1995    3100   \n",
      "15  116       Shelli       Baida    SBAIDA  515.127.4563  12/24/1997    2900   \n",
      "16  117        Sigal      Tobias   STOBIAS  515.127.4564   7/24/1997    2800   \n",
      "17  118          Guy      Himuro   GHIMURO  515.127.4565  11/15/1998    2600   \n",
      "18  119        Karen  Colmenares  KCOLMENA  515.127.4566   8/10/1999    2500   \n",
      "19  120      Matthew       Weiss    MWEISS  650.123.1234   7/18/1996    8000   \n",
      "\n",
      "    DEPARTMENT_ID  \n",
      "0              90  \n",
      "1              90  \n",
      "2              90  \n",
      "3              60  \n",
      "4              60  \n",
      "5              60  \n",
      "6              60  \n",
      "7             100  \n",
      "8             100  \n",
      "9             100  \n",
      "10            100  \n",
      "11            100  \n",
      "12            100  \n",
      "13             30  \n",
      "14             30  \n",
      "15             30  \n",
      "16             30  \n",
      "17             30  \n",
      "18             30  \n",
      "19             50  >\n"
     ]
    }
   ],
   "source": [
    "print(df.info)\n"
   ]
  },
  {
   "cell_type": "code",
   "execution_count": 59,
   "id": "4ad929fe-f785-4fc8-ad81-cd85ad0ceef8",
   "metadata": {},
   "outputs": [
    {
     "data": {
      "text/plain": [
       "1   -1\n",
       "2   -1\n",
       "3   -1\n",
       "4   -1\n",
       "5   -1\n",
       "6   -1\n",
       "dtype: int64"
      ]
     },
     "execution_count": 59,
     "metadata": {},
     "output_type": "execute_result"
    }
   ],
   "source": [
    "pd.Series(-1,index=range(1,7))"
   ]
  },
  {
   "cell_type": "code",
   "execution_count": 63,
   "id": "6d0db7ac-1d73-4419-b2ad-1518e033cfca",
   "metadata": {},
   "outputs": [
    {
     "name": "stdout",
     "output_type": "stream",
     "text": [
      "         population    Area\n",
      "cali         340000  340000\n",
      "nj           350000  350000\n",
      "ny           600000  600000\n",
      "md           250000  250000\n",
      "va           150000  150000\n",
      "florida      300000  300000\n",
      "chicago      400000  400000\n"
     ]
    }
   ],
   "source": [
    "import pandas as pd\n",
    "\n",
    "pop_dict = {'cali': 340000 ,'nj': 350000,'ny': 600000,'md': 250000,'va': 150000,'florida': 300000,'chicago': 400000}\n",
    "area_dict={'cali': 23 ,'nj': 25,'ny': 27,'md': 29,'va': 21,'florida': 19,'chicago': 32}\n",
    "c = pd.Series(pop_dict)\n",
    "area = pd.Series(pop_dict)\n",
    "states =pd.DataFrame({'population':c,'Area':area})\n",
    "print(states)\n"
   ]
  },
  {
   "cell_type": "code",
   "execution_count": 64,
   "id": "f5984d7e-7211-4b3c-bd45-02ad520d77a5",
   "metadata": {},
   "outputs": [
    {
     "data": {
      "text/plain": [
       "Index(['cali', 'nj', 'ny', 'md', 'va', 'florida', 'chicago'], dtype='object')"
      ]
     },
     "execution_count": 64,
     "metadata": {},
     "output_type": "execute_result"
    }
   ],
   "source": [
    "states.index"
   ]
  },
  {
   "cell_type": "code",
   "execution_count": 65,
   "id": "93cefd1d-4525-49be-8d86-9862581209d3",
   "metadata": {},
   "outputs": [
    {
     "data": {
      "text/plain": [
       "Index(['population', 'Area'], dtype='object')"
      ]
     },
     "execution_count": 65,
     "metadata": {},
     "output_type": "execute_result"
    }
   ],
   "source": [
    "states.columns"
   ]
  },
  {
   "cell_type": "code",
   "execution_count": 66,
   "id": "95633db6-4c72-4ac4-83d0-3cc362a1bb83",
   "metadata": {},
   "outputs": [
    {
     "name": "stdout",
     "output_type": "stream",
     "text": [
      "    a   b\n",
      "0  10  20\n",
      "1  20  40\n",
      "2  30  60\n"
     ]
    }
   ],
   "source": [
    "d=[{'a':10,'b':20},{'a':20,'b':40},{'a':30,'b':60}]\n",
    "df=pd.DataFrame(d)\n",
    "print(df)"
   ]
  },
  {
   "cell_type": "code",
   "execution_count": 68,
   "id": "be7baa32-c5c1-4981-a7da-359238797eeb",
   "metadata": {},
   "outputs": [
    {
     "name": "stdout",
     "output_type": "stream",
     "text": [
      "    a     b     c     d\n",
      "0  10  20.0   NaN   NaN\n",
      "1  20   NaN  40.0  75.0\n",
      "2  30  90.0   NaN  60.0\n"
     ]
    }
   ],
   "source": [
    "d=[{'a':10,'b':20},{'a':20,'c':40,'d':75},{'a':30,'b':90,'d':60}]\n",
    "df=pd.DataFrame(d)\n",
    "print(df)"
   ]
  },
  {
   "cell_type": "code",
   "execution_count": 71,
   "id": "94ebe3bb-a7ef-4288-a7a6-d4cd69ec7c4b",
   "metadata": {},
   "outputs": [
    {
     "name": "stdout",
     "output_type": "stream",
     "text": [
      "   bo  fo\n",
      "a  18  10\n",
      "b  10  18\n",
      "c  24  16\n",
      "d  18  26\n",
      "e  22  22\n"
     ]
    }
   ],
   "source": [
    "import numpy as np\n",
    "import pandas as pd\n",
    "df=pd.DataFrame(np.random.randint(10,30,(5,2)),columns=['bo','fo'],index=['a','b','c','d','e'])\n",
    "print(df)"
   ]
  },
  {
   "cell_type": "code",
   "execution_count": null,
   "id": "bae8b62f-0f8f-416d-8cdc-e3475e4a4c46",
   "metadata": {},
   "outputs": [],
   "source": []
  }
 ],
 "metadata": {
  "kernelspec": {
   "display_name": "Python 3 (ipykernel)",
   "language": "python",
   "name": "python3"
  },
  "language_info": {
   "codemirror_mode": {
    "name": "ipython",
    "version": 3
   },
   "file_extension": ".py",
   "mimetype": "text/x-python",
   "name": "python",
   "nbconvert_exporter": "python",
   "pygments_lexer": "ipython3",
   "version": "3.12.7"
  }
 },
 "nbformat": 4,
 "nbformat_minor": 5
}
